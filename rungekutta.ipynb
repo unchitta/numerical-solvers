{
 "cells": [
  {
   "cell_type": "code",
   "execution_count": 1,
   "metadata": {},
   "outputs": [],
   "source": [
    "import numpy as np"
   ]
  },
  {
   "cell_type": "code",
   "execution_count": 9,
   "metadata": {},
   "outputs": [],
   "source": [
    "def eulers(f,h,a,b,y0):\n",
    "    N = int((b-a)/h)\n",
    "    mesh = [a+(i*h) for i in range(N+1)]\n",
    "    \n",
    "    y = [y0]\n",
    "    for t in mesh: \n",
    "        if t==a: continue\n",
    "        y_i = y0 + (h*f(t,y0))\n",
    "        y.append(y_i)\n",
    "        y0 = y_i\n",
    "    \n",
    "    return mesh, y"
   ]
  },
  {
   "cell_type": "code",
   "execution_count": 3,
   "metadata": {},
   "outputs": [],
   "source": [
    "def rungekutta(f,h,a,b,y0):\n",
    "    N = int((b-a)/h)\n",
    "    mesh = [a+(i*h) for i in range(N+1)]\n",
    "    \n",
    "    y = [y0]\n",
    "    \n",
    "    for t in mesh:\n",
    "        if t==a: continue\n",
    "        y_mid = y0 + (h/2)*f(t,y0)\n",
    "        y_i = y0 + h*f(t+h/2, y_mid)\n",
    "        y.append(y_i)\n",
    "        y0 = y_i\n",
    "        \n",
    "    return mesh, y"
   ]
  },
  {
   "cell_type": "code",
   "execution_count": 4,
   "metadata": {},
   "outputs": [],
   "source": [
    "def f(t,y):\n",
    "    return 4*y*(1-y)\n",
    "\n",
    "step_sizes = [0.1,0.05,0.025,0.0125,0.00625,0.003125]\n",
    "res_eulers =[]\n",
    "res_rk = []\n",
    "\n",
    "for h in step_sizes:\n",
    "    _, y_eulers = eulers(f,h,0,1,0.1)\n",
    "    _, y_rk = rungekutta(f,h,0,1,0.1)\n",
    "    res_eulers.append(y_eulers[-1])\n",
    "    res_rk.append(y_rk[-1])"
   ]
  },
  {
   "cell_type": "code",
   "execution_count": 5,
   "metadata": {},
   "outputs": [
    {
     "name": "stdout",
     "output_type": "stream",
     "text": [
      "approximate solution at t=1.0\n",
      "+----------+--------------------+--------------------+\n",
      "|    h     |       Eulers       |    Runge-Kutta     |\n",
      "+----------+--------------------+--------------------+\n",
      "|   0.1    | 0.8485776886091548 | 0.8567153709794199 |\n",
      "|   0.05   | 0.8542614913921972 | 0.858027701034211  |\n",
      "|  0.025   | 0.8565266264427115 | 0.8583697392514922 |\n",
      "|  0.0125  | 0.8575417675493178 | 0.8584570122120901 |\n",
      "| 0.00625  | 0.8580225904276725 | 0.8584790572717299 |\n",
      "| 0.003125 | 0.8582566022220589 | 0.8584845974554778 |\n",
      "+----------+--------------------+--------------------+\n"
     ]
    }
   ],
   "source": [
    "from prettytable import PrettyTable\n",
    "\n",
    "table = PrettyTable()\n",
    "table.field_names = [\"h\", \"Eulers\", \"Runge-Kutta\"]\n",
    "for i,j,k in zip(step_sizes,res_eulers,res_rk):\n",
    "    table.add_row([i,j,k])\n",
    "\n",
    "print(\"approximate solution at t=1.0\")\n",
    "print(table)"
   ]
  },
  {
   "cell_type": "code",
   "execution_count": 6,
   "metadata": {},
   "outputs": [],
   "source": [
    "def aitken_est(y1,y2,y3):\n",
    "    return np.log((y1-y2)/(y2-y3)) / np.log(2)"
   ]
  },
  {
   "cell_type": "code",
   "execution_count": 7,
   "metadata": {},
   "outputs": [],
   "source": [
    "p_eulers = []\n",
    "p_rk = []\n",
    "for i in range(len(step_sizes)-2):\n",
    "    p_eulers.append(aitken_est(*res_eulers[i:i+3]))\n",
    "    p_rk.append(aitken_est(*res_rk[i:i+3]))"
   ]
  },
  {
   "cell_type": "code",
   "execution_count": 8,
   "metadata": {},
   "outputs": [
    {
     "name": "stdout",
     "output_type": "stream",
     "text": [
      "approximate order of accuracy at t=1.0 on each set of three consecutive solution values\n",
      "+--------------------+--------------------+\n",
      "|     p - Eulers     |   p - RungeKutta   |\n",
      "+--------------------+--------------------+\n",
      "| 1.3272594283946184 | 1.9399011703062574 |\n",
      "| 1.1579167895368085 | 1.9705508878705866 |\n",
      "| 1.0781028301597724 | 1.9850793591857685 |\n",
      "| 1.038924298864392  | 1.9924496488023764 |\n",
      "+--------------------+--------------------+\n"
     ]
    }
   ],
   "source": [
    "table2 = PrettyTable()\n",
    "table2.field_names = [\"p - Eulers\", \"p - RungeKutta\"]\n",
    "for i,j in zip(p_eulers,p_rk):\n",
    "    table2.add_row([i,j])\n",
    "\n",
    "print(\"approximate order of accuracy at t=1.0 on each set of three consecutive solution values\")\n",
    "print(table2)"
   ]
  },
  {
   "cell_type": "code",
   "execution_count": null,
   "metadata": {},
   "outputs": [],
   "source": []
  }
 ],
 "metadata": {
  "kernelspec": {
   "display_name": "Python 3",
   "language": "python",
   "name": "python3"
  },
  "language_info": {
   "codemirror_mode": {
    "name": "ipython",
    "version": 3
   },
   "file_extension": ".py",
   "mimetype": "text/x-python",
   "name": "python",
   "nbconvert_exporter": "python",
   "pygments_lexer": "ipython3",
   "version": "3.7.4"
  }
 },
 "nbformat": 4,
 "nbformat_minor": 4
}
